{
  "cells": [
    {
      "cell_type": "markdown",
      "source": [
        "Copyright (c) Microsoft Corporation. All rights reserved.\r\n",
        "\r\n",
        "Licensed under the MIT License."
      ],
      "metadata": {
        "nteract": {
          "transient": {
            "deleting": false
          }
        }
      }
    },
    {
      "cell_type": "markdown",
      "source": [
        "# Prepare Dataset\r\n",
        "\r\n",
        "This notebook file is for preparing the dataset that will be used for the [dataset_search_tool.ipynb](./dataset_search_tool.ipynb). \r\n",
        "In this notebook, you will use two different NYC Taxi datasets. You need to register and update dataset with tag information.\r\n",
        "\r\n",
        "This tutorial includes the following tasks:\r\n",
        "* Prepare data\r\n",
        "* Download data locally and then upload to Azure Blob\r\n",
        "* Create tag filter method\r\n",
        "* Search tag using predefined method "
      ],
      "metadata": {
        "nteract": {
          "transient": {
            "deleting": false
          }
        }
      }
    },
    {
      "cell_type": "markdown",
      "source": [
        "## Prerequisite\r\n",
        "\r\n",
        "If you are using an Azure Machine Learning Notebook VM, you are all set. Otherwise, make sure you go through the configuration Notebook located at https://github.com/Azure/MachineLearningNotebooks first if you haven't. This sets you up with a working config file that has information on your workspace, subscription id, etc."
      ],
      "metadata": {
        "nteract": {
          "transient": {
            "deleting": false
          }
        }
      }
    },
    {
      "cell_type": "markdown",
      "source": [
        "## Prepare data\r\n",
        "\r\n",
        "We will leverage the convenience of Azure Open Datasets along with the power of Azure Machine Learning service to create a regression model to predict NYC taxi fare prices. Perform `pip install azureml-opendatasets` to get the open dataset package. The Open Datasets package contains a class representing each data source (NycTlcGreen and NycTlcYellow) to easily filter date parameters before downloading."
      ],
      "metadata": {
        "nteract": {
          "transient": {
            "deleting": false
          }
        }
      }
    },
    {
      "cell_type": "markdown",
      "source": [
        "### Load data\r\n",
        "\r\n"
      ],
      "metadata": {
        "nteract": {
          "transient": {
            "deleting": false
          }
        }
      }
    },
    {
      "cell_type": "code",
      "source": [
        "import azureml.core\r\n",
        "# Check core SDK version number\r\n",
        "print(\"SDK version:\", azureml.core.VERSION)"
      ],
      "outputs": [],
      "execution_count": null,
      "metadata": {
        "collapsed": true,
        "jupyter": {
          "source_hidden": false,
          "outputs_hidden": false
        },
        "nteract": {
          "transient": {
            "deleting": false
          }
        },
        "gather": {
          "logged": 1614906292740
        }
      }
    },
    {
      "cell_type": "code",
      "source": [
        "from azureml.opendatasets import NycTlcGreen, NycTlcYellow\r\n",
        "import pandas as pd\r\n",
        "from datetime import datetime\r\n",
        "from dateutil.relativedelta import relativedelta\r\n",
        "\r\n",
        "green_df_raw = pd.DataFrame([])\r\n",
        "start = datetime.strptime(\"1/1/2016\",\"%m/%d/%Y\")\r\n",
        "end = datetime.strptime(\"1/31/2016\",\"%m/%d/%Y\")\r\n",
        "\r\n",
        "number_of_months = 1\r\n",
        "sample_size = 5000\r\n",
        "\r\n",
        "for sample_month in range(number_of_months):\r\n",
        "    temp_df_green = NycTlcGreen(start + relativedelta(months=sample_month), end + relativedelta(months=sample_month)) \\\r\n",
        "        .to_pandas_dataframe()\r\n",
        "    green_df_raw = green_df_raw.append(temp_df_green.sample(sample_size))"
      ],
      "outputs": [],
      "execution_count": null,
      "metadata": {
        "collapsed": true,
        "jupyter": {
          "source_hidden": false,
          "outputs_hidden": false
        },
        "nteract": {
          "transient": {
            "deleting": false
          }
        },
        "gather": {
          "logged": 1614906396839
        }
      }
    },
    {
      "cell_type": "code",
      "source": [
        "yellow_df_raw = pd.DataFrame([])\r\n",
        "start = datetime.strptime(\"1/1/2016\",\"%m/%d/%Y\")\r\n",
        "end = datetime.strptime(\"1/31/2016\",\"%m/%d/%Y\")\r\n",
        "\r\n",
        "sample_size = 500\r\n",
        "\r\n",
        "for sample_month in range(number_of_months):\r\n",
        "    temp_df_yellow = NycTlcYellow(start + relativedelta(months=sample_month), end + relativedelta(months=sample_month)) \\\r\n",
        "        .to_pandas_dataframe()\r\n",
        "    yellow_df_raw = yellow_df_raw.append(temp_df_yellow.sample(sample_size))"
      ],
      "outputs": [],
      "execution_count": null,
      "metadata": {
        "collapsed": true,
        "jupyter": {
          "source_hidden": false,
          "outputs_hidden": false
        },
        "nteract": {
          "transient": {
            "deleting": false
          }
        },
        "gather": {
          "logged": 1614906451475
        }
      }
    },
    {
      "cell_type": "markdown",
      "source": [
        "### See the data"
      ],
      "metadata": {
        "nteract": {
          "transient": {
            "deleting": false
          }
        }
      }
    },
    {
      "cell_type": "code",
      "source": [
        "from IPython.display import display\r\n",
        "\r\n",
        "display(green_df_raw.head(5))\r\n",
        "display(yellow_df_raw.head(5))"
      ],
      "outputs": [],
      "execution_count": null,
      "metadata": {
        "collapsed": true,
        "jupyter": {
          "source_hidden": false,
          "outputs_hidden": false
        },
        "nteract": {
          "transient": {
            "deleting": false
          }
        },
        "gather": {
          "logged": 1614906488982
        }
      }
    },
    {
      "cell_type": "markdown",
      "source": [
        "## Download data locally and then upload to Azure Blob"
      ],
      "metadata": {
        "nteract": {
          "transient": {
            "deleting": false
          }
        }
      }
    },
    {
      "cell_type": "code",
      "source": [
        "import os\r\n",
        "dataDir = \"data\"\r\n",
        "\r\n",
        "if not os.path.exists(dataDir):\r\n",
        "    os.mkdir(dataDir)\r\n",
        "\r\n",
        "greenDir = dataDir + \"/green\"\r\n",
        "yelloDir = dataDir + \"/yellow\"\r\n",
        "\r\n",
        "if not os.path.exists(greenDir):\r\n",
        "    os.mkdir(greenDir)\r\n",
        "    \r\n",
        "if not os.path.exists(yelloDir):\r\n",
        "    os.mkdir(yelloDir)\r\n",
        "    \r\n",
        "greenTaxiData = greenDir + \"/unprepared.parquet\"\r\n",
        "yellowTaxiData = yelloDir + \"/unprepared.parquet\"\r\n",
        "\r\n",
        "green_df_raw.to_csv(greenTaxiData, index=False)\r\n",
        "yellow_df_raw.to_csv(yellowTaxiData, index=False)\r\n",
        "\r\n",
        "print(\"Data written to local folder.\")"
      ],
      "outputs": [],
      "execution_count": null,
      "metadata": {
        "collapsed": true,
        "jupyter": {
          "source_hidden": false,
          "outputs_hidden": false
        },
        "nteract": {
          "transient": {
            "deleting": false
          }
        },
        "gather": {
          "logged": 1614906496159
        }
      }
    },
    {
      "cell_type": "markdown",
      "source": [
        "## Create and register datasets"
      ],
      "metadata": {
        "nteract": {
          "transient": {
            "deleting": false
          }
        }
      }
    },
    {
      "cell_type": "code",
      "source": [
        "\r\n",
        "from azureml.core import Workspace\r\n",
        "\r\n",
        "ws = Workspace.from_config()\r\n",
        "print(\"Workspace: \" + ws.name, \"Region: \" + ws.location, sep = '\\n')\r\n",
        "\r\n",
        "# Default datastore\r\n",
        "default_store = ws.get_default_datastore() \r\n",
        "\r\n",
        "default_store.upload_files([greenTaxiData], \r\n",
        "                           target_path = 'green', \r\n",
        "                           overwrite = True, \r\n",
        "                           show_progress = True)\r\n",
        "\r\n",
        "default_store.upload_files([yellowTaxiData], \r\n",
        "                           target_path = 'yellow', \r\n",
        "                           overwrite = True, \r\n",
        "                           show_progress = True)\r\n",
        "\r\n",
        "print(\"Upload calls completed.\")"
      ],
      "outputs": [],
      "execution_count": null,
      "metadata": {
        "collapsed": true,
        "jupyter": {
          "source_hidden": false,
          "outputs_hidden": false
        },
        "nteract": {
          "transient": {
            "deleting": false
          }
        },
        "gather": {
          "logged": 1614906618982
        }
      }
    },
    {
      "cell_type": "code",
      "source": [
        "from azureml.core import Dataset\r\n",
        "green_taxi_data = Dataset.Tabular.from_delimited_files(default_store.path('green/unprepared.parquet'))\r\n",
        "yellow_taxi_data = Dataset.Tabular.from_delimited_files(default_store.path('yellow/unprepared.parquet'))"
      ],
      "outputs": [],
      "execution_count": null,
      "metadata": {
        "collapsed": true,
        "jupyter": {
          "source_hidden": false,
          "outputs_hidden": false
        },
        "nteract": {
          "transient": {
            "deleting": false
          }
        },
        "gather": {
          "logged": 1614906655337
        }
      }
    },
    {
      "cell_type": "code",
      "source": [
        "green_taxi_data = green_taxi_data.register(ws, 'green_taxi_data')\r\n",
        "yellow_taxi_data = yellow_taxi_data.register(ws, 'yellow_taxi_data')"
      ],
      "outputs": [],
      "execution_count": null,
      "metadata": {
        "collapsed": true,
        "jupyter": {
          "source_hidden": false,
          "outputs_hidden": false
        },
        "nteract": {
          "transient": {
            "deleting": false
          }
        },
        "gather": {
          "logged": 1614906665036
        }
      }
    },
    {
      "cell_type": "markdown",
      "source": [
        "## Update dataset with tag information"
      ],
      "metadata": {
        "nteract": {
          "transient": {
            "deleting": false
          }
        }
      }
    },
    {
      "cell_type": "code",
      "source": [
        "green_taxi_data.update(tags={'version': 'original', 'type': 'green'})\r\n",
        "yellow_taxi_data.update(tags={'version': 'original', 'type': 'yellow'})"
      ],
      "outputs": [],
      "execution_count": null,
      "metadata": {
        "collapsed": true,
        "jupyter": {
          "source_hidden": false,
          "outputs_hidden": false
        },
        "nteract": {
          "transient": {
            "deleting": false
          }
        },
        "gather": {
          "logged": 1614907517125
        }
      }
    }
  ],
  "metadata": {
    "kernelspec": {
      "name": "python3-azureml",
      "language": "python",
      "display_name": "Python 3.6 - AzureML"
    },
    "language_info": {
      "name": "python",
      "version": "3.6.9",
      "mimetype": "text/x-python",
      "codemirror_mode": {
        "name": "ipython",
        "version": 3
      },
      "pygments_lexer": "ipython3",
      "nbconvert_exporter": "python",
      "file_extension": ".py"
    },
    "kernel_info": {
      "name": "python3-azureml"
    },
    "nteract": {
      "version": "nteract-front-end@1.0.0"
    },
    "microsoft": {
      "host": {
        "AzureML": {
          "notebookHasBeenCompleted": true
        }
      }
    }
  },
  "nbformat": 4,
  "nbformat_minor": 2
}