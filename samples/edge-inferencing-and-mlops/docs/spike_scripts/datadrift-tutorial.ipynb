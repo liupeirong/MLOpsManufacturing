{
  "cells": [
    {
      "cell_type": "markdown",
      "source": [
        "Copyright (c) Microsoft Corporation. All rights reserved.\n",
        "\n",
        "Licensed under the MIT License."
      ],
      "metadata": {}
    },
    {
      "cell_type": "markdown",
      "source": [
        "![Impressions](https://PixelServer20190423114238.azurewebsites.net/api/impressions/NotebookVM/how-to-use-azureml/work-with-data/datadrift-tutorial/datadrift-quickdemo.png)"
      ],
      "metadata": {}
    },
    {
      "cell_type": "markdown",
      "source": [
        "# Analyze data drift in Azure Machine Learning datasets\r\n",
        "\r\n",
        "In this tutorial, you will setup a data drift monitor on a sample dataset to:\r\n",
        "\r\n",
        "&#x2611; Analyze historical data for drift\r\n",
        "\r\n",
        "&#x2611; Setup a monitor to recieve email alerts if data drift is detected going forward\r\n",
        "\r\n",
        "If your workspace is Enterprise level, view and exlpore the results in the Azure Machine Learning studio. The video below shows the results from this tutorial.\r\n",
        "\r\n",
        "![gif](media/video.gif)"
      ],
      "metadata": {}
    },
    {
      "cell_type": "markdown",
      "source": [
        "## Prerequisites\n",
        "If you are using an Azure Machine Learning Compute instance, you are all set. Otherwise, go through the [configuration notebook](../../../configuration.ipynb) if you haven't already established your connection to the AzureML Workspace."
      ],
      "metadata": {}
    },
    {
      "cell_type": "code",
      "execution_count": null,
      "source": [
        "# Check core SDK version number\r\n",
        "import azureml.core\r\n",
        "\r\n",
        "print('SDK version:', azureml.core.VERSION)"
      ],
      "outputs": [],
      "metadata": {
        "gather": {
          "logged": 1625604926745
        }
      }
    },
    {
      "cell_type": "markdown",
      "source": [
        "## Initialize Workspace\n",
        "\n",
        "Initialize a workspace object from persisted configuration."
      ],
      "metadata": {}
    },
    {
      "cell_type": "code",
      "execution_count": null,
      "source": [
        "from azureml.core import Workspace\r\n",
        "\r\n",
        "ws = Workspace.from_config()\r\n",
        "ws"
      ],
      "outputs": [],
      "metadata": {
        "gather": {
          "logged": 1625604927930
        }
      }
    },
    {
      "cell_type": "markdown",
      "source": [
        "## Setup target and baseline datasets\r\n",
        "\r\n",
        "Setup the baseline and target datasets. The baseline will be used to compare each time slice of the target dataset, which is sampled by a given frequency. For further details, see [our documentation](http://aka.ms/datadrift).\r\n",
        "\r\n",
        "First, I uploaded a fakeData.csv into a datastore, and named it 'fakedata'. Of course, if you have a different data store already, just use that as long as it has the same CSV in it."
      ],
      "metadata": {}
    },
    {
      "cell_type": "code",
      "execution_count": null,
      "source": [
        "# use default datastore\r\n",
        "from azureml.core import Datastore\r\n",
        "dstore = Datastore.get(ws, 'fakedata')"
      ],
      "outputs": [],
      "metadata": {
        "gather": {
          "logged": 1625604929199
        }
      }
    },
    {
      "cell_type": "code",
      "execution_count": null,
      "source": [
        "# import Dataset class\r\n",
        "from azureml.core import Dataset\r\n",
        "\r\n",
        "# create target dataset \r\n",
        "target = Dataset.Tabular.from_delimited_files(dstore.path('fakeData.csv'))\r\n",
        "# set the timestamp column\r\n",
        "target = target.with_timestamp_columns('timestamp_x')\r\n",
        "# register the target dataset\r\n",
        "target = target.register(ws, 'fakeDataTarget')\r\n",
        "# retrieve the dataset from the workspace by name\r\n",
        "target = Dataset.get_by_name(ws, 'fakeDataTarget')"
      ],
      "outputs": [],
      "metadata": {
        "gather": {
          "logged": 1625605232505
        }
      }
    },
    {
      "cell_type": "code",
      "execution_count": null,
      "source": [
        "# import datetime \r\n",
        "from datetime import datetime\r\n",
        "\r\n",
        "# set baseline dataset as first weeks of data\r\n",
        "baseline=target.time_before(datetime(2021, 1, 15))\r\n"
      ],
      "outputs": [],
      "metadata": {
        "gather": {
          "logged": 1625607028757
        }
      }
    },
    {
      "cell_type": "code",
      "execution_count": null,
      "source": [
        "# optionally, register the baseline dataset. if skipped, an unregistered dataset will be used\r\n",
        "#baseline = baseline.register(ws, 'baseline')"
      ],
      "outputs": [],
      "metadata": {}
    },
    {
      "cell_type": "markdown",
      "source": [
        "## Create compute target\n",
        "\n",
        "Create an Azure Machine Learning compute cluster to run the data drift monitor and associated runs. The below cell will create a compute cluster named `'cpu-demo'`. "
      ],
      "metadata": {}
    },
    {
      "cell_type": "code",
      "execution_count": null,
      "source": [
        "from azureml.core.compute import AmlCompute, ComputeTarget\r\n",
        "\r\n",
        "compute_name = 'cpu-demo'\r\n",
        "\r\n",
        "if compute_name in ws.compute_targets:\r\n",
        "    compute_target = ws.compute_targets[compute_name]\r\n",
        "    if compute_target and type(compute_target) is AmlCompute:\r\n",
        "        print('found compute target. just use it. ' + compute_name)\r\n",
        "else:\r\n",
        "    print('creating a new compute target...')\r\n",
        "    provisioning_config = AmlCompute.provisioning_configuration(vm_size='STANDARD_D3_V2', min_nodes=0, max_nodes=2)\r\n",
        "\r\n",
        "    # create the cluster\r\n",
        "    compute_target = ComputeTarget.create(ws, compute_name, provisioning_config)\r\n",
        "\r\n",
        "    # can poll for a minimum number of nodes and for a specific timeout.\r\n",
        "    # if no min node count is provided it will use the scale settings for the cluster\r\n",
        "    compute_target.wait_for_completion(show_output=True, min_node_count=None, timeout_in_minutes=20)\r\n",
        "\r\n",
        "    # For a more detailed view of current AmlCompute status, use get_status()\r\n",
        "    print(compute_target.get_status().serialize())"
      ],
      "outputs": [],
      "metadata": {
        "gather": {
          "logged": 1625606144764
        }
      }
    },
    {
      "cell_type": "markdown",
      "source": [
        "## Create data drift monitor\n",
        "\n",
        "See [our documentation](http://aka.ms/datadrift) for a complete description for all of the parameters. "
      ],
      "metadata": {}
    },
    {
      "cell_type": "code",
      "execution_count": null,
      "source": [
        "from azureml.datadrift import DataDriftDetector, AlertConfiguration\r\n",
        "\r\n",
        "alert_config = AlertConfiguration(['EMAIL ADDRESS']) # replace with your email to recieve alerts from the scheduled pipeline after enabling\r\n",
        "\r\n",
        "monitor = DataDriftDetector.create_from_datasets(ws, 'fakedatadrift-monitor', baseline, target, \r\n",
        "                                                      compute_target=compute_name,         # compute target for scheduled pipeline and backfills \r\n",
        "                                                      frequency='Month',                     # how often to analyze target data\r\n",
        "                                                      feature_list=None,                    # list of features to detect drift on\r\n",
        "                                                      drift_threshold=None,                 # threshold from 0 to 1 for email alerting\r\n",
        "                                                      latency=0,                            # SLA in hours for target data to arrive in the dataset\r\n",
        "                                                      alert_config=alert_config)            # email addresses to send alert"
      ],
      "outputs": [],
      "metadata": {
        "tags": [
          "datadrift-remarks-sample"
        ],
        "gather": {
          "logged": 1625607644099
        }
      }
    },
    {
      "cell_type": "markdown",
      "source": [
        "## Update data drift monitor\n",
        "\n",
        "Many settings of the data drift monitor can be updated after creation. In this demo, we will update the `drift_threshold` and `feature_list`. See [our documentation](http://aka.ms/datadrift) for details on which settings can be changed.\n",
        "\n",
        "\n",
        "NOTE: I tried this method (of doing excludes), and it fails - but you may be able to manually include columns by ignoring their special characters"
      ],
      "metadata": {}
    },
    {
      "cell_type": "code",
      "execution_count": null,
      "source": [
        "# get monitor by name\r\n",
        "monitor = DataDriftDetector.get_by_name(ws, 'fakedatadrift-monitor')\r\n",
        "\r\n",
        "# create feature list - need to exclude columns that naturally drift or increment over time, such as year, day, index\r\n",
        "columns  = list(baseline.take(1).to_pandas_dataframe())\r\n",
        "exclude  = ['name-of-features-to-be-exlcluded']\r\n",
        "features = [col for col in columns if col not in exclude]\r\n",
        "\r\n",
        "# update the feature list\r\n",
        "monitor  = monitor.update(feature_list=features)"
      ],
      "outputs": [],
      "metadata": {
        "gather": {
          "logged": 1618592440811
        }
      }
    },
    {
      "cell_type": "markdown",
      "source": [
        "## Analyze historical data and backfill\r\n",
        "\r\n",
        "You can use the `backfill` method to:\r\n",
        "  * analyze historical data\r\n",
        "  * backfill metrics after updating the settings (mainly the feature list)\r\n",
        "  * backfill metrics for failed runs\r\n",
        "\r\n",
        "The below cells will run two backfills that will produce data drift results for fake data, with January used as the baseline in the monitor. The output can be seen from the `show` method after the runs have completed, or viewed from the Azure Machine Learning studio for Enterprise workspaces.\r\n",
        "\r\n",
        "![Drift results](media/drift-results.png)"
      ],
      "metadata": {}
    },
    {
      "cell_type": "markdown",
      "source": [
        ">**Tip!** When starting with the data drift capability, start by backfilling on a small section of data to get initial results. Update the feature list as needed by removing columns that are causing drift, but can be ignored, and backfill this section of data until satisfied with the results. Then, backfill on a larger slice of data and/or set the alert configuration, threshold, and enable the schedule to recieve alerts to drift on your dataset. All of this can be done through the UI (Enterprise) or Python SDK."
      ],
      "metadata": {
        "jupyter": {
          "source_hidden": true
        }
      }
    },
    {
      "cell_type": "markdown",
      "source": [
        "Although it depends on many factors, the below backfill should typically take less than 20 minutes to run. Results will show as soon as they become available, not when the backfill is completed, so you may begin to see some metrics in a few minutes."
      ],
      "metadata": {}
    },
    {
      "cell_type": "code",
      "execution_count": null,
      "source": [
        "# backfill for one month\r\n",
        "backfill_start_date = datetime(2021, 1, 16)\r\n",
        "backfill_end_date = datetime(2021, 4, 18)\r\n",
        "backfill = monitor.backfill(backfill_start_date, backfill_end_date)\r\n",
        "backfill"
      ],
      "outputs": [],
      "metadata": {
        "gather": {
          "logged": 1625607669420
        }
      }
    },
    {
      "cell_type": "markdown",
      "source": [
        "## Query metrics and show results in Python\n",
        "\n",
        "The below cell will plot some key data drift metrics, and can be used to query the results. Run `help(monitor.get_output)` for specifics on the object returned."
      ],
      "metadata": {}
    },
    {
      "cell_type": "code",
      "execution_count": null,
      "source": [
        "# make sure the backfill has completed\r\n",
        "backfill.wait_for_completion(wait_post_processing=True)"
      ],
      "outputs": [],
      "metadata": {
        "gather": {
          "logged": 1625608658170
        }
      }
    },
    {
      "cell_type": "code",
      "execution_count": null,
      "source": [
        "# get results from Python SDK (wait for backfills or monitor runs to finish)\r\n",
        "results, metrics = monitor.get_output(start_time=datetime(year=2021, month=1, day=16))"
      ],
      "outputs": [],
      "metadata": {
        "gather": {
          "logged": 1625612991183
        }
      }
    },
    {
      "cell_type": "code",
      "execution_count": null,
      "source": [
        "# plot the results from Python SDK \r\n",
        "monitor.show(backfill_start_date, backfill_end_date)"
      ],
      "outputs": [],
      "metadata": {
        "gather": {
          "logged": 1625613013008
        }
      }
    },
    {
      "cell_type": "markdown",
      "source": [
        "## Enable the monitor's pipeline schedule\n",
        "\n",
        "Turn on a scheduled pipeline which will anlayze the target dataset for drift every `frequency`. Use the latency parameter to adjust the start time of the pipeline. For instance, if it takes 24 hours for my data processing pipelines for data to arrive in the target dataset, set latency to 24. "
      ],
      "metadata": {}
    },
    {
      "cell_type": "code",
      "execution_count": null,
      "source": [
        "# enable the pipeline schedule and recieve email alerts\r\n",
        "#monitor.enable_schedule()\r\n",
        "\r\n",
        "# disable the pipeline schedule \r\n",
        "#monitor.disable_schedule()"
      ],
      "outputs": [],
      "metadata": {}
    },
    {
      "cell_type": "markdown",
      "source": [
        "## Delete compute target\n",
        "\n",
        "Do not delete the compute target if you intend to keep using it for the data drift monitor scheduled runs or otherwise. If the minimum nodes are set to 0, it will scale down soon after jobs are completed, and scale up the next time the cluster is needed."
      ],
      "metadata": {}
    },
    {
      "cell_type": "code",
      "execution_count": null,
      "source": [
        "# optionally delete the compute target\r\n",
        "#compute_target.delete()"
      ],
      "outputs": [],
      "metadata": {}
    },
    {
      "cell_type": "markdown",
      "source": [
        "## Delete the DataDriftDetector\n",
        "\n",
        "Invoking the `delete()` method on the object deletes the the drift monitor permanently and cannot be undone. You will no longer be able to find it in the UI and the `list()` or `get()` methods. The object on which delete() was called will have its state set to deleted and name suffixed with deleted. The baseline and target datasets and model data that was collected, if any, are not deleted. The compute is not deleted. The DataDrift schedule pipeline is disabled and archived."
      ],
      "metadata": {}
    },
    {
      "cell_type": "code",
      "execution_count": null,
      "source": [
        "monitor.delete()"
      ],
      "outputs": [],
      "metadata": {
        "gather": {
          "logged": 1618594735604
        }
      }
    },
    {
      "cell_type": "markdown",
      "source": [
        "## Next steps\n",
        "\n",
        "  * See [our documentation](https://aka.ms/datadrift) or [Python SDK reference](https://docs.microsoft.com/python/api/overview/azure/ml/intro)\n",
        "  * [Send requests or feedback](mailto:driftfeedback@microsoft.com) on data drift directly to the team\n",
        "  * Please open issues with data drift here on GitHub or on StackOverflow if others are likely to run into the same issue"
      ],
      "metadata": {}
    }
  ],
  "metadata": {
    "index_order": 1,
    "exclude_from_index": false,
    "task": "Filtering",
    "deployment": [
      "None"
    ],
    "authors": [
      {
        "name": "jamgan"
      }
    ],
    "star_tag": [
      "featured"
    ],
    "microsoft": {
      "host": {
        "AzureML": {
          "notebookHasBeenCompleted": true
        }
      }
    },
    "kernel_info": {
      "name": "python3-azureml"
    },
    "language_info": {
      "name": "python",
      "version": "3.6.9",
      "mimetype": "text/x-python",
      "codemirror_mode": {
        "name": "ipython",
        "version": 3
      },
      "pygments_lexer": "ipython3",
      "nbconvert_exporter": "python",
      "file_extension": ".py"
    },
    "compute": [
      "Remote"
    ],
    "kernelspec": {
      "name": "python3-azureml",
      "language": "python",
      "display_name": "Python 3.6 - AzureML"
    },
    "tags": [
      "Dataset",
      "Timeseries",
      "Drift"
    ],
    "datasets": [
      "NOAA"
    ],
    "categories": [
      "how-to-use-azureml",
      "work-with-data"
    ],
    "category": "tutorial",
    "framework": [
      "Azure ML"
    ],
    "friendly_name": "Data drift quickdemo",
    "nteract": {
      "version": "nteract-front-end@1.0.0"
    }
  },
  "nbformat": 4,
  "nbformat_minor": 4
}